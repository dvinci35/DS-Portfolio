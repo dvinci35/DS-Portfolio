{
 "cells": [
  {
   "cell_type": "markdown",
   "metadata": {},
   "source": [
    "# Univ DS-1 Project \n",
    "By :\n",
    "- ## Dewang Vinchhi\n",
    "- ## Ashwin "
   ]
  },
  {
   "cell_type": "markdown",
   "metadata": {
    "id": "v_Do7ZjK6IFt"
   },
   "source": [
    "# Installation of Required Libraries"
   ]
  },
  {
   "cell_type": "code",
   "execution_count": 23,
   "metadata": {
    "colab": {
     "base_uri": "https://localhost:8080/"
    },
    "id": "9GCDT5d5zPm_",
    "outputId": "94db1576-9ecf-4cf4-af8b-fbe23c215db0"
   },
   "outputs": [],
   "source": [
    "# from google.colab import drive\n",
    "# drive.mount('/content/drive')"
   ]
  },
  {
   "cell_type": "code",
   "execution_count": 24,
   "metadata": {
    "colab": {
     "base_uri": "https://localhost:8080/"
    },
    "id": "fdmjFIPQ6DZF",
    "outputId": "de907dde-4ddc-4334-d0e5-186ea08194f6",
    "tags": []
   },
   "outputs": [],
   "source": [
    "# # Updating the application repository and installing chrome driver\n",
    "# !apt update \n",
    "# !apt install chromium-chromedriver \n",
    "# !pip install -q selenium webdriver_manager "
   ]
  },
  {
   "cell_type": "markdown",
   "metadata": {
    "id": "__dMjT-a6OiL"
   },
   "source": [
    "# Importing Required Libraries"
   ]
  },
  {
   "cell_type": "code",
   "execution_count": 25,
   "metadata": {
    "id": "IStuoC6F6MSj"
   },
   "outputs": [],
   "source": [
    "from selenium import webdriver\n",
    "from selenium.webdriver.common.by import By\n",
    "from selenium.webdriver.common.keys import Keys \n",
    "from selenium.common.exceptions import NoSuchElementException\n",
    "from selenium.webdriver.firefox.options import Options\n",
    "\n",
    "# from selenium.webdriver.firefox.service import Service as FirefoxService\n",
    "# from webdriver_manager.firefox import GeckoDriverManager\n",
    "\n",
    "import re \n",
    "import time \n",
    "import pandas as pd\n",
    "import numpy as np\n",
    "import matplotlib.pyplot as plt\n",
    "import seaborn as sbn\n",
    "import sqlite3\n",
    "from sqlite3 import OperationalError\n",
    "import os"
   ]
  },
  {
   "cell_type": "markdown",
   "metadata": {
    "id": "C8RsxsKo6xQ2"
   },
   "source": [
    "# Writing Helpful classes and functions for scraping data\n",
    "## Class to interact with database\n",
    "This class has following functions\n",
    "- make_query() -> It allows to make query from database\n",
    "- On instantiating this class it will either create connection to existing database or will ask to create new\n",
    "- make_changes() -> you can make new tables or delete records using this from database. This does not accepts any arguments\n",
    "- execute_many() -> Primary purpose is to be able to add many records (rows) in possibly one line\n",
    "- get_cols() -> returns the name of columns of the table name passed\n",
    "- quit_db() -> Disconnects with the database"
   ]
  },
  {
   "cell_type": "code",
   "execution_count": 26,
   "metadata": {},
   "outputs": [],
   "source": [
    "class DatabaseScrape:\n",
    "    \n",
    "\n",
    "    def __init__(self, dbName, dbPath='.',):\n",
    "\n",
    "        self.dbName = dbName\n",
    "        self.dbPath = dbPath\n",
    "        \n",
    "        if os.path.exists(self.dbPath):\n",
    "            # current_folder = os.getcwd()\n",
    "            if self.dbName in os.listdir(self.dbPath):\n",
    "                self.conn = sqlite3.connect(os.path.join(self.dbPath, self.dbName))\n",
    "                self.cur = self.conn.cursor()\n",
    "                print(\"Database connection successfull\")\n",
    "            else:\n",
    "                print(\"There is no such database at given path, creating new database\")\n",
    "                print(\"Press Enter to create new database or\")\n",
    "                input(\"Press ctrl+c to exit\")\n",
    "                \n",
    "                self.conn = sqlite3.connect(os.path.join(self.dbPath, self.dbName))\n",
    "                self.cur = self.conn.cursor()\n",
    "                print(\"Database Created Successfully\")\n",
    "        else:\n",
    "            print(\"The path do not exists, check the path\")\n",
    "            return\n",
    "\n",
    "    def make_changes(self, query):\n",
    "        self.cur.execute(query)\n",
    "        self.conn.commit()\n",
    "\n",
    "    def make_query(self, query):\n",
    "        self.cur.execute(query)\n",
    "        try:\n",
    "            return self.cur.fetchall()\n",
    "        except:\n",
    "            print(\"There was some error, check query!\")\n",
    "    \n",
    "    def get_cols(self, table_name):\n",
    "        r = self.cur.execute(f\"PRAGMA TABLE_INFO({table_name})\")\n",
    "        r = [c[1] for c in r]\n",
    "        return r\n",
    "\n",
    "    def execute_many(self, query, data_list):\n",
    "        self.cur.executemany(query, data_list)\n",
    "        self.conn.commit()\n",
    "\n",
    "    def quit_db(self):\n",
    "        self.conn.close()\n",
    "        print(\"Database connection closed\")"
   ]
  },
  {
   "cell_type": "markdown",
   "metadata": {},
   "source": [
    "## HotelWebsite Class\n",
    "This is a class. It will store website details from which we want to get hotel information"
   ]
  },
  {
   "cell_type": "code",
   "execution_count": 27,
   "metadata": {
    "id": "e0xledFg6ufw"
   },
   "outputs": [],
   "source": [
    "class HotelWebsite:\n",
    "    '''\n",
    "    A class object that will store the information of websites \n",
    "    that we will be scraping\n",
    "\n",
    "    '''    \n",
    "    def __init__(self, url, xpathSearch, searchButton):\n",
    "        self.url = url\n",
    "        self.xpathSearch = xpathSearch\n",
    "        \n",
    "        self.searchButton = searchButton"
   ]
  },
  {
   "cell_type": "markdown",
   "metadata": {},
   "source": [
    "## Functions to:\n",
    "- Start a driver\n",
    "- Open a website and make a search."
   ]
  },
  {
   "cell_type": "code",
   "execution_count": 28,
   "metadata": {
    "id": "o72BiTqs6vSn"
   },
   "outputs": [],
   "source": [
    "def start_driver():\n",
    "    options = Options()\n",
    "    # options.add_argument(\"--headless\")\n",
    "    # options.add_argument('--no-sandbox')\n",
    "    # options.add_argument('--disable-dev-shm-usage')\n",
    "    # options.add_argument('--lang=en_US') \n",
    "    # service = FirefoxService(executable_path=GeckoDriverManager().install())\n",
    "    driver = webdriver.Firefox(options=options)\n",
    "    driver.maximize_window()\n",
    "    print(\"Driver opened\")\n",
    "    return driver\n",
    "\n",
    "def search(web_site, driver, cityName):\n",
    "    # Load the main URL\n",
    "    driver.get(web_site.url)\n",
    "    \n",
    "    # wait for page to load\n",
    "    driver.implicitly_wait(3)\n",
    "\n",
    "    # finding input element\n",
    "    search_box = driver.find_element(\n",
    "        By.XPATH, web_site.xpathSearch)\n",
    "    \n",
    "    # finding search button element\n",
    "    butt = driver.find_element(\n",
    "        By.XPATH, web_site.searchButton)\n",
    "\n",
    "    # entering the search query aka cityName\n",
    "    search_box.send_keys(cityName)\n",
    "    time.sleep(7)\n",
    "    \n",
    "    butt.click()\n",
    "    time.sleep(2)\n",
    "    print(f\"Search {cityName} Finished\")\n",
    "    print('--'*50)\n",
    "    return driver"
   ]
  },
  {
   "cell_type": "markdown",
   "metadata": {},
   "source": [
    "## A function that scrapes the webpage containing hotel details -> hotel profile scraper"
   ]
  },
  {
   "cell_type": "code",
   "execution_count": 29,
   "metadata": {},
   "outputs": [],
   "source": [
    "# HOTEL PROFILE CRAWLER\n",
    "# runs inside scrape_hotel_and_link\n",
    "# gathers the data of current profile opened\n",
    "def hotel_profile_crawler(driver, link, hName):\n",
    "    driver = driver\n",
    "    \n",
    "\n",
    "    # Open a new window\n",
    "    driver.execute_script(\"window.open('');\")\n",
    "\n",
    "    # Switch to the new window and open new URL\n",
    "    driver.switch_to.window(driver.window_handles[1])\n",
    "    \n",
    "    # waits for the net duration and in this duration all the operations by selenium should\n",
    "    # finish or it will return empty strings or dictionary or lists\n",
    "    driver.implicitly_wait(10)\n",
    "    driver.get(link)\n",
    "    \n",
    "    # ADDRESS - ok\n",
    "    address = driver.find_element(By.CSS_SELECTOR, \".hp_address_subtitle\").text.strip()\n",
    "    # print('ADDRESS')\n",
    "    # print(address, end='\\n\\n')\n",
    "    \n",
    "    # REVIEWS - ok\n",
    "    try:\n",
    "        review_count = driver.find_element(By.XPATH, \"//span[@class=\\\"b5cd09854e c90c0a70d3 db63693c62\\\"]\").text.strip()\n",
    "        review_count = re.findall(\"\\d+\" , review_count)\n",
    "        review_count = ''.join(review_count)\n",
    "    except NoSuchElementException:\n",
    "        review_count = ''\n",
    "    try:\n",
    "        avg_rvw = driver.find_element(By.XPATH, \"//div[@class=\\\"b5cd09854e d10a6220b4\\\"]\").text.strip()\n",
    "    except NoSuchElementException:\n",
    "        avg_rvw = ''\n",
    "    \n",
    "    # print(\"REVIEW\")\n",
    "    # print(review_count, avg_rvw, end=\"\\n\\n\")\n",
    "    \n",
    "    # FACILITIES - ok\n",
    "    facility_box = driver.find_element(By.XPATH, \"//div[@class=\\\"hotel-facilities__list\\\"]\")\n",
    "    \n",
    "    facilities = {}\n",
    "    for item in facility_box.find_elements(By.XPATH, \"//div[@class=\\\"hotel-facilities-group\\\"]\"):\n",
    "        title = item.find_element(By.TAG_NAME, 'div').text.strip()\n",
    "        try:\n",
    "            facility_names = item.find_elements(By.TAG_NAME, 'li')\n",
    "            facility_names = [n.text.strip() for n in facility_names]\n",
    "        except NoSuchElementException:\n",
    "            facility_names = ''\n",
    "        try:\n",
    "            description = item.find_element(By.XPATH, '//*[@class=\"bui-spacer--medium hotel-facilities-group__policy\"]').text.strip()\n",
    "        except NoSuchElementException:\n",
    "            description = ''\n",
    "        facilities[title] = facility_names + [description]\n",
    "        \n",
    "    # HOTEL SURROUNDINGS - ok\n",
    "    # List of block that contain distances to nearest places\n",
    "    \n",
    "    # scroll upto certain element to let the website load the data that next we want to obtain\n",
    "    try:\n",
    "        driver.implicitly_wait(2)\n",
    "        element = driver.find_element(By.XPATH, '//div[@class=\"hp_location_block__section_container\"]')\n",
    "    except NoSuchElementException as E:\n",
    "        driver.implicitly_wait(2)\n",
    "        element = driver.find_element(By.XPATH, '//div[@class=\"d31796cb42\"]')\n",
    "    \n",
    "    driver.execute_script(\"arguments[0].scrollIntoView(true);\", element)\n",
    "    \n",
    "    # Finding the element that has data regarding nearby places to visit\n",
    "    container_blocks = driver.find_elements(By.XPATH, '//div[@class=\"hp_location_block__section_container\"]')\n",
    "    \n",
    "    if container_blocks =={}:\n",
    "        container_blocks = driver.find_elements(By.XPATH, '//div[@class=\"d31796cb42\"]')\n",
    "\n",
    "    # Titles of block regarding the nearby places\n",
    "    block_titles = driver.find_elements(By.XPATH, '''//span[@class=\"bui-title__text\"]''')\n",
    "\n",
    "    if block_titles == {}:\n",
    "        block_titles = driver.find_elements(By.XPATH, '''//div[@class=\"ac78a73c96 f0d4d6a2f5 fda3b74d0d\"]''')\n",
    "\n",
    "    # iterating over the names of block titles to save them as the dictionary keys\n",
    "    block_titles = [N.text.strip() for N in block_titles]\n",
    "    iter_block_titles = iter(block_titles)\n",
    "\n",
    "\n",
    "    # empty dictionary to store information from each block\n",
    "    hotel_surrounding = dict()\n",
    "\n",
    "    # iterating through the blocks elemets to extract information\n",
    "    for block in container_blocks[:-1]:\n",
    "\n",
    "        # information is in list tag \n",
    "        driver.implicitly_wait(1.5)\n",
    "        list_elements = block.find_elements(By.TAG_NAME, \"li\")\n",
    "\n",
    "        # empty list to store place name and distance to it\n",
    "        place_n_dist_list = list()\n",
    "\n",
    "        # iterating through list elemets\n",
    "        for ele in list_elements:\n",
    "            driver.implicitly_wait(0.5)\n",
    "            \n",
    "            # every list element has 3 div tags and info is stored in 2nd and 3rd\n",
    "            place = ele.find_elements(By.TAG_NAME, \"div\")\n",
    "            assert place != []\n",
    "            \n",
    "            \n",
    "            # appending in previously created list\n",
    "            spam1, spam2 = (place[1].text.strip(), place[2].text)\n",
    "            place_n_dist_list.append((spam1, spam2))\n",
    "\n",
    "        # title of current block\n",
    "        # key = block title\n",
    "        # value = place and distance list created previously\n",
    "        hotel_surrounding[next(iter_block_titles)] = place_n_dist_list\n",
    "        assert hotel_surrounding != {}\n",
    "    \n",
    "    # ADD DATA TO DATABASE\n",
    "    # COLUMNS = h_id, link, h_name, avg_rvw, rvw_count, facilites, hotel_surroundings, address\n",
    "    \n",
    "    tupled_list = [link,\n",
    "                  hName,\n",
    "                  address,\n",
    "                  avg_rvw,\n",
    "                  review_count,\n",
    "                  str(facilities),\n",
    "                  str(hotel_surrounding)]\n",
    "    \n",
    "    # Closing new_url tab\n",
    "    driver.close()\n",
    "\n",
    "    # Switching to old tab\n",
    "    driver.switch_to.window(driver.window_handles[0])\n",
    "    \n",
    "    return tupled_list"
   ]
  },
  {
   "cell_type": "markdown",
   "metadata": {
    "tags": []
   },
   "source": [
    "## Scrape hotel and link\n",
    "We are not directly opening the hotel profiles to scrape the hotel information. We first save the links to all hotels for a city that a search shows and then later open the hotel links directly and scrape information.\n",
    "- This function recieves driver that has search result opened and it will simply find the name and links of hotels\n",
    "- This function is finds hotel names and links for 1 city.\n",
    "- Find total number of properties (hotels)\n",
    "- Find the name and links using selenium.\n",
    "- store it in a list\n",
    "- Goto next page of search results\n",
    "- repeat of getting name and links of hotel\n",
    "- Append in a list.\n",
    "- return the list"
   ]
  },
  {
   "cell_type": "code",
   "execution_count": 30,
   "metadata": {
    "id": "QWPgE-YS7Ht5"
   },
   "outputs": [],
   "source": [
    "def scrape_hotel_and_link(web_site, city_id, driver, database):\n",
    "    \n",
    "    time.sleep(3)\n",
    "\n",
    "    num_of_properties = driver.find_element(\n",
    "        By.XPATH,\n",
    "        \"//h1[@class='e1f827110f d3a14d00da']\").text.strip()\n",
    "    num_of_properties = re.findall(\"\\d+\", num_of_properties)\n",
    "    num_of_properties = int(''.join(num_of_properties)) \n",
    "    print(f\"Number of properties = {num_of_properties}\")\n",
    "    print(\"---\" * 50)\n",
    "    \n",
    "    if num_of_properties < 400:\n",
    "        numPages = (int(num_of_properties) // 25) +1\n",
    "    else:\n",
    "        # first is already extracted\n",
    "        numPages = 20\n",
    "    \n",
    "    for pageN in range(numPages):\n",
    "        # per page there are 25 results (or cards)\n",
    "        links_ = driver.find_elements(By.XPATH, \"//h3[@class=\\\"a4225678b2\\\"]/a\")\n",
    "        driver.implicitly_wait(5)\n",
    "        links_ = [n.get_attribute(\"href\") for n in links_]\n",
    "\n",
    "        titles = driver.find_elements(By.XPATH, \"//h3[@class=\\\"a4225678b2\\\"]/a/div[1]\")\n",
    "        driver.implicitly_wait(5)\n",
    "        titles = [n.text.strip() for n in titles]\n",
    "\n",
    "        # ===========================================================================\n",
    "        for l, hName in zip(links_, titles):\n",
    "            data_list = hotel_profile_crawler(driver=driver,link = l, hName= hName)\n",
    "            \n",
    "            full_data = [city_id] + data_list\n",
    "            full_data = [tuple(full_data)]\n",
    "            database.execute_many('''\n",
    "                INSERT INTO hotel_data(\n",
    "                    c_id,\n",
    "                    link,\n",
    "                    h_name,\n",
    "                    address,\n",
    "                    avg_rvw,\n",
    "                    rvw_count,\n",
    "                    facilites,\n",
    "                    hotel_surroundings\n",
    "                ) \n",
    "                VALUES(?,?,?,?,?,?,?,?)''', full_data\n",
    "            )\n",
    "\n",
    "        # ===========================================================================\n",
    "        next_page_butt = driver.find_element(\n",
    "            By.XPATH, \n",
    "            \"//*[@id='search_results_table']/div[2]/div/div/div/div[4]/div[2]/nav/div/div[3]/button\") \\\n",
    "            .click()\n",
    "        \n",
    "        time.sleep(3)\n",
    "        \n"
   ]
  },
  {
   "cell_type": "markdown",
   "metadata": {
    "tags": []
   },
   "source": [
    "## crawler function\n",
    "- This is the main runner, this function will call other functions.\n",
    "\n",
    "Following are the steps:\n",
    "- Start the driver\n",
    "- It receives list of cities to scrape as a argument.\n",
    "- LOOP through cities to scrape hotel data\n",
    "    - store the city name in data base and assign it a ID.\n",
    "    - Run the search function\n",
    "    - Run the scrape_hotel_and_links function\n",
    "    - Store the list which has name and links of hotel in database. Assign the hotel a ID\n",
    "- Quit the database and driver\n",
    "- END"
   ]
  },
  {
   "cell_type": "code",
   "execution_count": 31,
   "metadata": {
    "id": "VPvo6LEW7NoE"
   },
   "outputs": [],
   "source": [
    "def crawler(web_site, cityNameList, db_):\n",
    "    \"\"\"\n",
    "    This is specific to booking.com website\n",
    "    \"\"\"\n",
    "    # connect to firefox driver\n",
    "    driver = start_driver()\n",
    "    \n",
    "    cityNameList = [(i+1, city) for i, city in enumerate(cityNameList)]\n",
    "    \n",
    "    db_.execute_many(\"INSERT INTO cities(city_id, city_name) VALUES(?, ?)\", cityNameList)\n",
    "\n",
    "    for city_id, cityName in cityNameList:\n",
    "        # search using the city name in search bar\n",
    "        # sequence of actions to take to successfully make search\n",
    "\n",
    "        # inputing the search query (query is cityName) and fetching website into driver1\n",
    "        driver1 = search(web_site, driver, cityName)\n",
    "\n",
    "        # saving the hotel names and link as a list of tuples\n",
    "        scrape_hotel_and_link(web_site, \n",
    "                           city_id= city_id, \n",
    "                           driver=driver1, \n",
    "                           database = db_)\n",
    "  \n",
    "    # quit driver after use\n",
    "    db_.quit_db()\n",
    "    driver1.quit()"
   ]
  },
  {
   "cell_type": "markdown",
   "metadata": {},
   "source": [
    "# Create database and tables"
   ]
  },
  {
   "cell_type": "code",
   "execution_count": 32,
   "metadata": {},
   "outputs": [
    {
     "name": "stdout",
     "output_type": "stream",
     "text": [
      "There is no such database at given path, creating new database\n",
      "Press Enter to create new database or\n"
     ]
    },
    {
     "name": "stdin",
     "output_type": "stream",
     "text": [
      "Press ctrl+c to exit \n"
     ]
    },
    {
     "name": "stdout",
     "output_type": "stream",
     "text": [
      "Database Created Successfully\n"
     ]
    }
   ],
   "source": [
    "hotels = DatabaseScrape(\"hotels_database.db\")\n",
    "\n",
    "# creating tables\n",
    "hotels.make_changes(\n",
    "    \"\"\"CREATE TABLE cities(\n",
    "        city_id INTEGER PRIMARY KEY,\n",
    "        city_name VARCHAR\n",
    "        )\"\"\"\n",
    ")\n",
    "\n",
    "# COLUMNS = h_id, c_id link, h_name, avg_rvw, rvw_count, facilites, hotel_surroundings, address\n",
    "hotels.make_changes(\n",
    "    '''CREATE TABLE hotel_data(\n",
    "        h_id INTEGER PRIMARY KEY AUTOINCREMENT,\n",
    "        c_id INTEGER,\n",
    "        link VARCHAR,\n",
    "        h_name VARCHAR,\n",
    "        address VARCHAR,\n",
    "        avg_rvw VARCHAR,\n",
    "        rvw_count VARCHAR,\n",
    "        facilites VARCHAR,\n",
    "        hotel_surroundings VARCHAR,\n",
    "        FOREIGN KEY (c_id) REFERENCES cities(city_id)\n",
    "    )'''\n",
    ")"
   ]
  },
  {
   "cell_type": "markdown",
   "metadata": {
    "id": "mJejsy6R7lYI"
   },
   "source": [
    "# Scraper - runs all the code"
   ]
  },
  {
   "cell_type": "code",
   "execution_count": 33,
   "metadata": {
    "id": "tSmK474i7SWv",
    "tags": []
   },
   "outputs": [
    {
     "name": "stdout",
     "output_type": "stream",
     "text": [
      "Driver opened\n",
      "Search Delhi Finished\n",
      "----------------------------------------------------------------------------------------------------\n",
      "Number of properties = 1345\n",
      "------------------------------------------------------------------------------------------------------------------------------------------------------\n",
      "Search Mumbai Finished\n",
      "----------------------------------------------------------------------------------------------------\n",
      "Number of properties = 620\n",
      "------------------------------------------------------------------------------------------------------------------------------------------------------\n",
      "Search Varanasi Finished\n",
      "----------------------------------------------------------------------------------------------------\n",
      "Number of properties = 178\n",
      "------------------------------------------------------------------------------------------------------------------------------------------------------\n",
      "Search Jaipur Finished\n",
      "----------------------------------------------------------------------------------------------------\n",
      "Number of properties = 769\n",
      "------------------------------------------------------------------------------------------------------------------------------------------------------\n",
      "Search Agra Finished\n",
      "----------------------------------------------------------------------------------------------------\n",
      "Number of properties = 789\n",
      "------------------------------------------------------------------------------------------------------------------------------------------------------\n",
      "Database connection closed\n"
     ]
    }
   ],
   "source": [
    "cities = ['Delhi','Mumbai','Varanasi','Jaipur','Agra']\n",
    "\n",
    "bookingsCom = HotelWebsite(\n",
    "    url = \"https://www.booking.com\",\n",
    "    xpathSearch = '//input[@name=\"ss\"]',\n",
    "    searchButton = \"//button[@type=\\\"submit\\\"]\",\n",
    ")\n",
    "\n",
    "\n",
    "crawler(bookingsCom, cities, hotels)"
   ]
  },
  {
   "cell_type": "markdown",
   "metadata": {},
   "source": [
    "# EXPLORATORY DATA ANALYSIS"
   ]
  },
  {
   "cell_type": "code",
   "execution_count": 1,
   "metadata": {},
   "outputs": [],
   "source": [
    "import pandas as pd\n",
    "import numpy as np\n",
    "import seaborn as sns\n",
    "import matplotlib.pyplot as plt"
   ]
  },
  {
   "cell_type": "markdown",
   "metadata": {},
   "source": [
    "## Class to interact with database"
   ]
  },
  {
   "cell_type": "markdown",
   "metadata": {},
   "source": [
    "### Getting data from the database - optional"
   ]
  },
  {
   "cell_type": "code",
   "execution_count": 3,
   "metadata": {},
   "outputs": [
    {
     "name": "stdout",
     "output_type": "stream",
     "text": [
      "Database connection successfull\n"
     ]
    },
    {
     "data": {
      "text/html": [
       "<div>\n",
       "<style scoped>\n",
       "    .dataframe tbody tr th:only-of-type {\n",
       "        vertical-align: middle;\n",
       "    }\n",
       "\n",
       "    .dataframe tbody tr th {\n",
       "        vertical-align: top;\n",
       "    }\n",
       "\n",
       "    .dataframe thead th {\n",
       "        text-align: right;\n",
       "    }\n",
       "</style>\n",
       "<table border=\"1\" class=\"dataframe\">\n",
       "  <thead>\n",
       "    <tr style=\"text-align: right;\">\n",
       "      <th></th>\n",
       "      <th>h_id</th>\n",
       "      <th>c_id</th>\n",
       "      <th>link</th>\n",
       "      <th>h_name</th>\n",
       "      <th>address</th>\n",
       "      <th>avg_rvw</th>\n",
       "      <th>rvw_count</th>\n",
       "      <th>facilites</th>\n",
       "      <th>hotel_surroundings</th>\n",
       "    </tr>\n",
       "  </thead>\n",
       "  <tbody>\n",
       "    <tr>\n",
       "      <th>0</th>\n",
       "      <td>1</td>\n",
       "      <td>1</td>\n",
       "      <td>https://www.booking.com/hotel/in/arch-plaza-ne...</td>\n",
       "      <td>Hotel Arch Plaza - Near Delhi Airport</td>\n",
       "      <td>Bijwasan Road Near Indira Gandhi International...</td>\n",
       "      <td>5.5</td>\n",
       "      <td>2</td>\n",
       "      <td>{'Outdoors': ['Picnic area', 'Outdoor furnitur...</td>\n",
       "      <td>{\"What's nearby\": [('Candor Badminton Court An...</td>\n",
       "    </tr>\n",
       "    <tr>\n",
       "      <th>1</th>\n",
       "      <td>2</td>\n",
       "      <td>1</td>\n",
       "      <td>https://www.booking.com/hotel/in/discovery-new...</td>\n",
       "      <td>Hotel D'Capitol - Delhi Airport</td>\n",
       "      <td>786, Mahipalpur Small Signal,Vasant Kunj Road ...</td>\n",
       "      <td>7.9</td>\n",
       "      <td>3883</td>\n",
       "      <td>{'Outdoors': ['Terrace', 'Garden', 'WiFi is av...</td>\n",
       "      <td>{\"What's nearby\": [('Herbal Garden', '5 km'), ...</td>\n",
       "    </tr>\n",
       "    <tr>\n",
       "      <th>2</th>\n",
       "      <td>3</td>\n",
       "      <td>1</td>\n",
       "      <td>https://www.booking.com/hotel/in/srivinayak.ht...</td>\n",
       "      <td>Hotel Shri Vinayak at New Delhi Railway Statio...</td>\n",
       "      <td>7418, Arakashan Road, Saran building, Street N...</td>\n",
       "      <td>8.2</td>\n",
       "      <td>169</td>\n",
       "      <td>{'Outdoors': ['Outdoor fireplace', 'Outdoor fu...</td>\n",
       "      <td>{\"What's nearby\": [('Central Park', '1.4 km'),...</td>\n",
       "    </tr>\n",
       "    <tr>\n",
       "      <th>3</th>\n",
       "      <td>4</td>\n",
       "      <td>1</td>\n",
       "      <td>https://www.booking.com/hotel/in/venus-interna...</td>\n",
       "      <td>Hotel Smart Plaza Delhi Airport</td>\n",
       "      <td>A Block, Near Indira Gandhi International Airp...</td>\n",
       "      <td>8.4</td>\n",
       "      <td>2915</td>\n",
       "      <td>{'Activities': ['Tennis equipment', 'Evening e...</td>\n",
       "      <td>{\"What's nearby\": [('Herbal Garden', '5 km'), ...</td>\n",
       "    </tr>\n",
       "    <tr>\n",
       "      <th>4</th>\n",
       "      <td>5</td>\n",
       "      <td>1</td>\n",
       "      <td>https://www.booking.com/hotel/in/the-ivy-grand...</td>\n",
       "      <td>Hotel The IVY Grand With Free Secured Parking</td>\n",
       "      <td>Plot No.1, Block 8, D B Gupta Road Paharganj, ...</td>\n",
       "      <td>8.2</td>\n",
       "      <td>470</td>\n",
       "      <td>{'Food &amp; Drink': ['Breakfast in the room', 'Wi...</td>\n",
       "      <td>{\"What's nearby\": [('Tikona Park', '1.4 km'), ...</td>\n",
       "    </tr>\n",
       "  </tbody>\n",
       "</table>\n",
       "</div>"
      ],
      "text/plain": [
       "   h_id  c_id                                               link  \\\n",
       "0     1     1  https://www.booking.com/hotel/in/arch-plaza-ne...   \n",
       "1     2     1  https://www.booking.com/hotel/in/discovery-new...   \n",
       "2     3     1  https://www.booking.com/hotel/in/srivinayak.ht...   \n",
       "3     4     1  https://www.booking.com/hotel/in/venus-interna...   \n",
       "4     5     1  https://www.booking.com/hotel/in/the-ivy-grand...   \n",
       "\n",
       "                                              h_name  \\\n",
       "0              Hotel Arch Plaza - Near Delhi Airport   \n",
       "1                    Hotel D'Capitol - Delhi Airport   \n",
       "2  Hotel Shri Vinayak at New Delhi Railway Statio...   \n",
       "3                    Hotel Smart Plaza Delhi Airport   \n",
       "4      Hotel The IVY Grand With Free Secured Parking   \n",
       "\n",
       "                                             address avg_rvw rvw_count  \\\n",
       "0  Bijwasan Road Near Indira Gandhi International...     5.5         2   \n",
       "1  786, Mahipalpur Small Signal,Vasant Kunj Road ...     7.9      3883   \n",
       "2  7418, Arakashan Road, Saran building, Street N...     8.2       169   \n",
       "3  A Block, Near Indira Gandhi International Airp...     8.4      2915   \n",
       "4  Plot No.1, Block 8, D B Gupta Road Paharganj, ...     8.2       470   \n",
       "\n",
       "                                           facilites  \\\n",
       "0  {'Outdoors': ['Picnic area', 'Outdoor furnitur...   \n",
       "1  {'Outdoors': ['Terrace', 'Garden', 'WiFi is av...   \n",
       "2  {'Outdoors': ['Outdoor fireplace', 'Outdoor fu...   \n",
       "3  {'Activities': ['Tennis equipment', 'Evening e...   \n",
       "4  {'Food & Drink': ['Breakfast in the room', 'Wi...   \n",
       "\n",
       "                                  hotel_surroundings  \n",
       "0  {\"What's nearby\": [('Candor Badminton Court An...  \n",
       "1  {\"What's nearby\": [('Herbal Garden', '5 km'), ...  \n",
       "2  {\"What's nearby\": [('Central Park', '1.4 km'),...  \n",
       "3  {\"What's nearby\": [('Herbal Garden', '5 km'), ...  \n",
       "4  {\"What's nearby\": [('Tikona Park', '1.4 km'), ...  "
      ]
     },
     "metadata": {},
     "output_type": "display_data"
    }
   ],
   "source": [
    "database = DatabaseScrape(\"hotels_database.db\")\n",
    "\n",
    "data = database.make_query(\"SELECT * FROM hotel_data\")\n",
    "columns = database.get_cols(\"hotel_data\")\n",
    "\n",
    "dataframe = pd.DataFrame(data, columns = columns)\n",
    "\n",
    "display(dataframe.head())"
   ]
  },
  {
   "cell_type": "markdown",
   "metadata": {},
   "source": [
    "## Exploring the data\n",
    "### Dropping duplicates"
   ]
  },
  {
   "cell_type": "code",
   "execution_count": 4,
   "metadata": {},
   "outputs": [
    {
     "name": "stdout",
     "output_type": "stream",
     "text": [
      "There are 85 duplicates in the data.\n",
      "\n",
      "Dropping the duplicates\n",
      "\n",
      "Duplicates Dropped.\n"
     ]
    }
   ],
   "source": [
    "\n",
    "duplicate_count = dataframe[dataframe[['h_name', 'address']].duplicated()].count()[0]\n",
    "print(f\"There are {duplicate_count} duplicates in the data.\")\n",
    "\n",
    "print(\"\\nDropping the duplicates\")\n",
    "dataframe[['h_name', 'address']] = dataframe[['h_name', 'address']].drop_duplicates()\n",
    "print(\"\\nDuplicates Dropped.\")"
   ]
  },
  {
   "cell_type": "code",
   "execution_count": 5,
   "metadata": {},
   "outputs": [],
   "source": [
    "# spelling correction\n",
    "dataframe.rename(columns={\"facilites\" :\"facilities\"}, inplace=True)"
   ]
  },
  {
   "cell_type": "markdown",
   "metadata": {},
   "source": [
    "### Converting the string of 'facilities' and \"hotel_surrondings\" column to dictionary"
   ]
  },
  {
   "cell_type": "code",
   "execution_count": 6,
   "metadata": {},
   "outputs": [],
   "source": [
    "dataframe['facilities'] = dataframe['facilities'].apply(eval)\n",
    "dataframe['hotel_surroundings'] = dataframe['hotel_surroundings'].apply(eval)"
   ]
  },
  {
   "cell_type": "code",
   "execution_count": 7,
   "metadata": {},
   "outputs": [],
   "source": [
    "# optional\n",
    "# dataframe.to_pickle(\"processed_df.pkl\")"
   ]
  },
  {
   "cell_type": "code",
   "execution_count": 8,
   "metadata": {},
   "outputs": [
    {
     "name": "stdout",
     "output_type": "stream",
     "text": [
      "<class 'pandas.core.frame.DataFrame'>\n",
      "RangeIndex: 2151 entries, 0 to 2150\n",
      "Data columns (total 9 columns):\n",
      " #   Column              Non-Null Count  Dtype \n",
      "---  ------              --------------  ----- \n",
      " 0   h_id                2151 non-null   int64 \n",
      " 1   c_id                2151 non-null   int64 \n",
      " 2   link                2151 non-null   object\n",
      " 3   h_name              2066 non-null   object\n",
      " 4   address             2066 non-null   object\n",
      " 5   avg_rvw             2151 non-null   object\n",
      " 6   rvw_count           2151 non-null   object\n",
      " 7   facilities          2151 non-null   object\n",
      " 8   hotel_surroundings  2151 non-null   object\n",
      "dtypes: int64(2), object(7)\n",
      "memory usage: 151.4+ KB\n"
     ]
    }
   ],
   "source": [
    "dataframe.info()"
   ]
  },
  {
   "cell_type": "code",
   "execution_count": 9,
   "metadata": {},
   "outputs": [
    {
     "data": {
      "text/plain": [
       "h_id                   int64\n",
       "c_id                   int64\n",
       "link                  object\n",
       "h_name                object\n",
       "address               object\n",
       "avg_rvw               object\n",
       "rvw_count             object\n",
       "facilities            object\n",
       "hotel_surroundings    object\n",
       "dtype: object"
      ]
     },
     "execution_count": 9,
     "metadata": {},
     "output_type": "execute_result"
    }
   ],
   "source": [
    "dataframe.dtypes"
   ]
  },
  {
   "cell_type": "code",
   "execution_count": 10,
   "metadata": {},
   "outputs": [],
   "source": [
    "dataframe['link'] = dataframe['link'].astype('string')\n",
    "dataframe['h_name'] = dataframe['h_name'].astype('string')\n",
    "dataframe['address'] = dataframe['address'].astype('string')\n",
    "dataframe['avg_rvw'] = dataframe['avg_rvw'].astype('string')\n",
    "dataframe['rvw_count'] = dataframe['rvw_count'].astype('string')"
   ]
  },
  {
   "cell_type": "markdown",
   "metadata": {},
   "source": [
    "### CHANGING THE DICTIONARIES KEYS TO COLUMNS"
   ]
  },
  {
   "cell_type": "code",
   "execution_count": 11,
   "metadata": {},
   "outputs": [
    {
     "data": {
      "text/plain": [
       "{'2 swimming pools',\n",
       " '3 swimming pools',\n",
       " 'Accessibility',\n",
       " 'Activities',\n",
       " 'Bathroom',\n",
       " 'Bedroom',\n",
       " 'Building Characteristics',\n",
       " 'Business Facilities',\n",
       " 'Cleaning Services',\n",
       " 'Common Areas',\n",
       " 'Entertainment & Family Services',\n",
       " 'Food & Drink',\n",
       " 'Front Desk Services',\n",
       " 'General',\n",
       " 'Health & Wellness Facilities',\n",
       " 'Indoor swimming pool',\n",
       " 'Internet',\n",
       " 'Kitchen',\n",
       " 'Kitchen\\nFreedom to eat when you want',\n",
       " 'Languages Spoken',\n",
       " 'Living Area',\n",
       " 'Living Area\\nSpace for everyone to be together',\n",
       " 'Media & Technology',\n",
       " 'Media & Technology\\nFun for everyone under one roof',\n",
       " 'Miscellaneous',\n",
       " 'Outdoor & View\\nEnjoy the view',\n",
       " 'Outdoor swimming pool',\n",
       " 'Outdoors',\n",
       " 'Outdoors\\nSit back and relax',\n",
       " 'Parking',\n",
       " 'Pets',\n",
       " 'Pool and Spa',\n",
       " 'Pool – indoor (kids)',\n",
       " 'Room Amenities',\n",
       " 'Room Amenities\\nExtra comfort',\n",
       " 'Safety & security',\n",
       " 'Services',\n",
       " 'Services & Extras',\n",
       " 'Shops',\n",
       " 'Ski',\n",
       " 'Spa',\n",
       " 'Swimming pool',\n",
       " 'Transportation',\n",
       " 'View'}"
      ]
     },
     "execution_count": 11,
     "metadata": {},
     "output_type": "execute_result"
    }
   ],
   "source": [
    "spam = list()\n",
    "for val in dataframe['facilities'].values:\n",
    "    spam.extend(list(val.keys()))\n",
    "    \n",
    "set(spam)"
   ]
  },
  {
   "cell_type": "markdown",
   "metadata": {},
   "source": [
    "FACILITIES THAT ARE REPEATED IN SOME WAY OR OTHER\n",
    "- Swimming pool (this is different from the pool for kids)\n",
    "    - indoor and outdoor is also a gig\n",
    "- Living Area\n",
    "- Spa\n",
    "- Room Amenities\n",
    "- Outdoors\n",
    "- Media & technology\n",
    "- Kitchen\n",
    "- Different kind of 'services'"
   ]
  },
  {
   "cell_type": "code",
   "execution_count": 12,
   "metadata": {
    "tags": []
   },
   "outputs": [],
   "source": [
    "# iterating through values of facilities\n",
    "from copy import copy\n",
    "\n",
    "# for i, row_val in dataframe['facilities'].iteritems():\n",
    "def change_facilities(row_val):\n",
    "    new_dict = copy(row_val)\n",
    "    new_fts = ['swimming pool', 'living area', 'services', 'spa','kitchen', 'media & technology','outdoors', 'room amenities']\n",
    "    for x in new_fts:\n",
    "        new_dict[x] = []\n",
    "    \n",
    "    # iterating through the keys of value dictionary\n",
    "    for key_of_val in row_val.keys():\n",
    "        # any swimming pool related value is assigned to single same named key = 'swimming pool'\n",
    "        if 'swimming pool' in key_of_val.lower():\n",
    "            new_dict['swimming pool'].extend(row_val[key_of_val])\n",
    "            del new_dict[key_of_val]\n",
    "        elif 'living area' in key_of_val.lower():\n",
    "            new_dict['living area'].extend(row_val[key_of_val])\n",
    "            del new_dict[key_of_val]\n",
    "        elif 'services' in key_of_val.lower():\n",
    "            new_dict['services'].extend(row_val[key_of_val])\n",
    "            del new_dict[key_of_val]\n",
    "        elif 'spa' in key_of_val.lower():\n",
    "            new_dict['spa'].extend(row_val[key_of_val])\n",
    "            del new_dict[key_of_val]\n",
    "        elif 'kitchen' in key_of_val.lower():\n",
    "            new_dict['kitchen'].extend(row_val[key_of_val])\n",
    "            del new_dict[key_of_val]\n",
    "        elif 'media & technology' in key_of_val.lower():\n",
    "            new_dict['media & technology'].extend(row_val[key_of_val])\n",
    "            del new_dict[key_of_val]\n",
    "        elif 'outdoors' in key_of_val.lower():\n",
    "            new_dict['outdoors'].extend(row_val[key_of_val])\n",
    "            del new_dict[key_of_val]\n",
    "        elif 'room amenities' in key_of_val.lower():\n",
    "            new_dict['room amenities'].extend(row_val[key_of_val])\n",
    "            del new_dict[key_of_val]\n",
    "    \n",
    "    for x in new_fts:\n",
    "        if len(new_dict[x]) == 0:\n",
    "            del new_dict[x]\n",
    "            \n",
    "    return new_dict\n",
    "\n",
    "# dataframe['new_facilities'] = \n",
    "dataframe['new_facilities'] = dataframe['facilities'].apply(change_facilities)"
   ]
  },
  {
   "cell_type": "code",
   "execution_count": 13,
   "metadata": {},
   "outputs": [
    {
     "data": {
      "text/plain": [
       "0    {'Food & Drink': ['Kids' meals\n",
       "Additional char...\n",
       "1    {'Food & Drink': ['Bar', 'Restaurant', 'WiFi i...\n",
       "2    {'Food & Drink': ['Fruit\n",
       "Additional charge', '...\n",
       "3    {'Activities': ['Tennis equipment', 'Evening e...\n",
       "4    {'Food & Drink': ['Breakfast in the room', 'Wi...\n",
       "Name: new_facilities, dtype: object"
      ]
     },
     "execution_count": 13,
     "metadata": {},
     "output_type": "execute_result"
    }
   ],
   "source": [
    "dataframe['new_facilities'].head()"
   ]
  },
  {
   "cell_type": "markdown",
   "metadata": {},
   "source": [
    "The **hotel surroundings** is dictionary of places nearby, hotspots, restaurents and many different things."
   ]
  },
  {
   "cell_type": "markdown",
   "metadata": {},
   "source": [
    "### Imputing the nan ratings of hotel"
   ]
  },
  {
   "cell_type": "code",
   "execution_count": 14,
   "metadata": {},
   "outputs": [
    {
     "data": {
      "text/plain": [
       "h_id                    int64\n",
       "c_id                    int64\n",
       "link                   string\n",
       "h_name                 string\n",
       "address                string\n",
       "avg_rvw               float32\n",
       "rvw_count             float32\n",
       "facilities             object\n",
       "hotel_surroundings     object\n",
       "new_facilities         object\n",
       "dtype: object"
      ]
     },
     "metadata": {},
     "output_type": "display_data"
    }
   ],
   "source": [
    "dataframe['rvw_count'] = dataframe['rvw_count'].replace('', np.nan).astype(np.float32)\n",
    "dataframe['avg_rvw'] = dataframe['avg_rvw'].replace('', np.nan).astype(np.float32)\n",
    "\n",
    "display(dataframe.dtypes)"
   ]
  },
  {
   "cell_type": "code",
   "execution_count": 16,
   "metadata": {
    "collapsed": true,
    "jupyter": {
     "outputs_hidden": true
    },
    "tags": []
   },
   "outputs": [
    {
     "name": "stderr",
     "output_type": "stream",
     "text": [
      "C:\\Users\\devang\\AppData\\Local\\Temp\\ipykernel_1276\\2513603582.py:4: SettingWithCopyWarning: \n",
      "A value is trying to be set on a copy of a slice from a DataFrame\n",
      "\n",
      "See the caveats in the documentation: https://pandas.pydata.org/pandas-docs/stable/user_guide/indexing.html#returning-a-view-versus-a-copy\n",
      "  dataframe[dataframe['c_id']==city_id]['avg_rvw'].fillna(mean_for_current_city[0], inplace=True)\n",
      "C:\\Users\\devang\\AppData\\Local\\Temp\\ipykernel_1276\\2513603582.py:5: SettingWithCopyWarning: \n",
      "A value is trying to be set on a copy of a slice from a DataFrame\n",
      "\n",
      "See the caveats in the documentation: https://pandas.pydata.org/pandas-docs/stable/user_guide/indexing.html#returning-a-view-versus-a-copy\n",
      "  dataframe[dataframe['c_id']==city_id]['rvw_count'].fillna(mean_for_current_city[1], inplace=True)\n"
     ]
    }
   ],
   "source": [
    "# imputing the mean of average ratings by city\n",
    "# imputing the mean of rating count by city\n",
    "\n",
    "city_wise_mean_ratings = dataframe.groupby('c_id')[['avg_rvw', 'rvw_count']].mean()\n",
    "for city_id in dataframe['c_id'].unique():\n",
    "    mean_for_current_city = city_wise_mean_ratings.loc[city_id]\n",
    "    dataframe[dataframe['c_id']==city_id]['avg_rvw'].fillna(mean_for_current_city[0], inplace=True)\n",
    "    dataframe[dataframe['c_id']==city_id]['rvw_count'].fillna(mean_for_current_city[1], inplace=True)"
   ]
  },
  {
   "cell_type": "code",
   "execution_count": 17,
   "metadata": {},
   "outputs": [
    {
     "data": {
      "image/png": "[encoded data removed]",
      "text/plain": [
       "<Figure size 640x480 with 1 Axes>"
      ]
     },
     "metadata": {},
     "output_type": "display_data"
    }
   ],
   "source": [
    "dataframe['number_of_facilities'] =  dataframe.facilities.apply(lambda x: len(x.keys()))\n",
    "\n",
    "plt.style.use('seaborn-v0_8-pastel')\n",
    "plt.scatter(dataframe.avg_rvw,dataframe.number_of_facilities, color='pink', alpha=0.5)\n",
    "plt.xlabel('Average review')\n",
    "plt.ylabel('Number of facilities')\n",
    "plt.title('Analysis between review vs number of facilities')\n",
    "plt.show()"
   ]
  },
  {
   "cell_type": "markdown",
   "metadata": {},
   "source": [
    "**OBSERVATION**\n",
    "- There is no obvious relation but,\n",
    "- Larger number of facilities tend to get higher average reviews"
   ]
  },
  {
   "cell_type": "code",
   "execution_count": 18,
   "metadata": {},
   "outputs": [
    {
     "data": {
      "image/png": "[encoded data removed]",
      "text/plain": [
       "<Figure size 640x480 with 1 Axes>"
      ]
     },
     "metadata": {},
     "output_type": "display_data"
    }
   ],
   "source": [
    "plt.scatter(dataframe.avg_rvw,dataframe.c_id, alpha=0.5)\n",
    "plt.xlabel('Average review')\n",
    "plt.ylabel('City id')\n",
    "plt.title('Analysis between review vs City')\n",
    "plt.show()"
   ]
  },
  {
   "cell_type": "markdown",
   "metadata": {},
   "source": [
    "OBSERVATION\n",
    "- Most ratings are between 5 and 10"
   ]
  },
  {
   "cell_type": "code",
   "execution_count": 19,
   "metadata": {},
   "outputs": [
    {
     "data": {
      "text/plain": [
       "[('Candor Badminton Court And Park', '2.3 km'),\n",
       " ('Herbal Garden', '2.5 km'),\n",
       " ('Community Park S2302', '3 km'),\n",
       " ('Secctor 23 Maarket Park', '3.5 km'),\n",
       " ('Tau Devi Lal Park', '3.7 km'),\n",
       " ('Cyber Greens Park', '4.3 km'),\n",
       " ('Central Park', '4.4 km'),\n",
       " ('DLF City Club', '4.6 km'),\n",
       " ('RK Convent Park', '4.6 km'),\n",
       " ('RWA Park', '4.8 km')]"
      ]
     },
     "execution_count": 19,
     "metadata": {},
     "output_type": "execute_result"
    }
   ],
   "source": [
    "dataframe.hotel_surroundings[0][\"What's nearby\"]"
   ]
  },
  {
   "cell_type": "code",
   "execution_count": 20,
   "metadata": {},
   "outputs": [
    {
     "name": "stderr",
     "output_type": "stream",
     "text": [
      "C:\\Users\\devang\\AppData\\Local\\Temp\\ipykernel_1276\\3058326599.py:1: FutureWarning: The default value of numeric_only in DataFrameGroupBy.mean is deprecated. In a future version, numeric_only will default to False. Either specify numeric_only or select only columns which should be valid for the function.\n",
      "  dataframe.groupby(['number_of_facilities']).mean()[['avg_rvw']]\n"
     ]
    },
    {
     "data": {
      "text/html": [
       "<div>\n",
       "<style scoped>\n",
       "    .dataframe tbody tr th:only-of-type {\n",
       "        vertical-align: middle;\n",
       "    }\n",
       "\n",
       "    .dataframe tbody tr th {\n",
       "        vertical-align: top;\n",
       "    }\n",
       "\n",
       "    .dataframe thead th {\n",
       "        text-align: right;\n",
       "    }\n",
       "</style>\n",
       "<table border=\"1\" class=\"dataframe\">\n",
       "  <thead>\n",
       "    <tr style=\"text-align: right;\">\n",
       "      <th></th>\n",
       "      <th>avg_rvw</th>\n",
       "    </tr>\n",
       "    <tr>\n",
       "      <th>number_of_facilities</th>\n",
       "      <th></th>\n",
       "    </tr>\n",
       "  </thead>\n",
       "  <tbody>\n",
       "    <tr>\n",
       "      <th>3</th>\n",
       "      <td>4.375000</td>\n",
       "    </tr>\n",
       "    <tr>\n",
       "      <th>4</th>\n",
       "      <td>4.737500</td>\n",
       "    </tr>\n",
       "    <tr>\n",
       "      <th>5</th>\n",
       "      <td>5.603921</td>\n",
       "    </tr>\n",
       "    <tr>\n",
       "      <th>6</th>\n",
       "      <td>5.964286</td>\n",
       "    </tr>\n",
       "    <tr>\n",
       "      <th>7</th>\n",
       "      <td>6.172185</td>\n",
       "    </tr>\n",
       "    <tr>\n",
       "      <th>8</th>\n",
       "      <td>6.161000</td>\n",
       "    </tr>\n",
       "    <tr>\n",
       "      <th>9</th>\n",
       "      <td>6.776378</td>\n",
       "    </tr>\n",
       "    <tr>\n",
       "      <th>10</th>\n",
       "      <td>6.910448</td>\n",
       "    </tr>\n",
       "    <tr>\n",
       "      <th>11</th>\n",
       "      <td>6.977586</td>\n",
       "    </tr>\n",
       "    <tr>\n",
       "      <th>12</th>\n",
       "      <td>7.182105</td>\n",
       "    </tr>\n",
       "    <tr>\n",
       "      <th>13</th>\n",
       "      <td>7.692994</td>\n",
       "    </tr>\n",
       "    <tr>\n",
       "      <th>14</th>\n",
       "      <td>7.570149</td>\n",
       "    </tr>\n",
       "    <tr>\n",
       "      <th>15</th>\n",
       "      <td>7.956410</td>\n",
       "    </tr>\n",
       "    <tr>\n",
       "      <th>16</th>\n",
       "      <td>8.009174</td>\n",
       "    </tr>\n",
       "    <tr>\n",
       "      <th>17</th>\n",
       "      <td>7.922059</td>\n",
       "    </tr>\n",
       "    <tr>\n",
       "      <th>18</th>\n",
       "      <td>7.873846</td>\n",
       "    </tr>\n",
       "    <tr>\n",
       "      <th>19</th>\n",
       "      <td>7.979033</td>\n",
       "    </tr>\n",
       "    <tr>\n",
       "      <th>20</th>\n",
       "      <td>7.933871</td>\n",
       "    </tr>\n",
       "    <tr>\n",
       "      <th>21</th>\n",
       "      <td>8.028260</td>\n",
       "    </tr>\n",
       "    <tr>\n",
       "      <th>22</th>\n",
       "      <td>7.994117</td>\n",
       "    </tr>\n",
       "    <tr>\n",
       "      <th>23</th>\n",
       "      <td>8.570000</td>\n",
       "    </tr>\n",
       "    <tr>\n",
       "      <th>24</th>\n",
       "      <td>9.433333</td>\n",
       "    </tr>\n",
       "    <tr>\n",
       "      <th>26</th>\n",
       "      <td>9.700000</td>\n",
       "    </tr>\n",
       "  </tbody>\n",
       "</table>\n",
       "</div>"
      ],
      "text/plain": [
       "                       avg_rvw\n",
       "number_of_facilities          \n",
       "3                     4.375000\n",
       "4                     4.737500\n",
       "5                     5.603921\n",
       "6                     5.964286\n",
       "7                     6.172185\n",
       "8                     6.161000\n",
       "9                     6.776378\n",
       "10                    6.910448\n",
       "11                    6.977586\n",
       "12                    7.182105\n",
       "13                    7.692994\n",
       "14                    7.570149\n",
       "15                    7.956410\n",
       "16                    8.009174\n",
       "17                    7.922059\n",
       "18                    7.873846\n",
       "19                    7.979033\n",
       "20                    7.933871\n",
       "21                    8.028260\n",
       "22                    7.994117\n",
       "23                    8.570000\n",
       "24                    9.433333\n",
       "26                    9.700000"
      ]
     },
     "execution_count": 20,
     "metadata": {},
     "output_type": "execute_result"
    }
   ],
   "source": [
    "dataframe.groupby(['number_of_facilities']).mean()[['avg_rvw']]"
   ]
  },
  {
   "cell_type": "markdown",
   "metadata": {},
   "source": [
    "It is pretty clear that reviews are higher for hotels with more facilities."
   ]
  },
  {
   "cell_type": "markdown",
   "metadata": {},
   "source": [
    "So far we have seen that a hotel has many facilities and different restaurents and places around the hotel.\n",
    "\n",
    "Different hotels have been rated differently and by different number of peoples ( which makes it difficult for use to use this scale directly as in plain english it will be unfair to those hotels which was rated by fewer number of hotels.)\n",
    "\n",
    "The `facilities` and `hotel surroundngs` columns can be used as in conjunction with `ratings` and `number of people rated`.\n",
    "\n",
    "The two columns needs to be cleaned and usable to make this idea become fruitful\n",
    "\n",
    "After getting the data processed and ready to be utilised we can achieve recommendation by doing following:\n",
    "- Make clusters of similar hotels by using the above mentioned criteria.\n",
    "- Suggest these clusters from descending order or best to worst.\n",
    "\n",
    "For now due to lack of time and people we have progressed upto gathering the data and trying to clean the data."
   ]
  },
  {
   "cell_type": "code",
   "execution_count": null,
   "metadata": {},
   "outputs": [],
   "source": []
  },
  {
   "cell_type": "code",
   "execution_count": null,
   "metadata": {},
   "outputs": [],
   "source": []
  }
 ],
 "metadata": {
  "colab": {
   "collapsed_sections": [],
   "provenance": []
  },
  "kernelspec": {
   "display_name": "Python 3 (ipykernel)",
   "language": "python",
   "name": "python3"
  },
  "language_info": {
   "codemirror_mode": {
    "name": "ipython",
    "version": 3
   },
   "file_extension": ".py",
   "mimetype": "text/x-python",
   "name": "python",
   "nbconvert_exporter": "python",
   "pygments_lexer": "ipython3",
   "version": "3.10.5"
  }
 },
 "nbformat": 4,
 "nbformat_minor": 4
}
